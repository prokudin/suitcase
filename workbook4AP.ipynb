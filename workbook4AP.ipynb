{
 "cells": [
  {
   "cell_type": "code",
   "execution_count": 1,
   "id": "million-banking",
   "metadata": {},
   "outputs": [
    {
     "name": "stderr",
     "output_type": "stream",
     "text": [
      "<ipython-input-1-0b478c36dda5>:5: MatplotlibDeprecationWarning: Support for setting the 'text.latex.preamble' or 'pgf.preamble' rcParam to a list of strings is deprecated since 3.3 and will be removed two minor releases later; set it to a single string instead.\n",
      "  matplotlib.rcParams['text.latex.preamble']=[r\"\\usepackage{amsmath}\"]\n"
     ]
    }
   ],
   "source": [
    "import sys,os\n",
    "import numpy as np\n",
    "import pandas as pd\n",
    "import matplotlib\n",
    "matplotlib.rcParams['text.latex.preamble']=[r\"\\usepackage{amsmath}\"]\n",
    "matplotlib.rc('text',usetex=True)\n",
    "from matplotlib.legend_handler import HandlerLine2D\n",
    "import pylab as py\n",
    "import scipy.special as sc\n",
    "from scipy import interpolate\n",
    "from scipy.integrate import quad\n",
    "from mpmath import fp"
   ]
  },
  {
   "cell_type": "code",
   "execution_count": 2,
   "id": "atlantic-paper",
   "metadata": {},
   "outputs": [
    {
     "data": {
      "text/plain": [
       "'/u/home/nsato'"
      ]
     },
     "execution_count": 2,
     "metadata": {},
     "output_type": "execute_result"
    }
   ],
   "source": [
    "pwd"
   ]
  },
  {
   "cell_type": "code",
   "execution_count": 4,
   "id": "iraqi-adjustment",
   "metadata": {},
   "outputs": [],
   "source": [
    "path='/w/jam-sciwork18/nsato/codes/jam3d'\n",
    "sys.path.insert(0,path)\n",
    "os.environ[\"JAM3D\"] = \"/w/jam-sciwork18/nsato/codes/jam3d\""
   ]
  },
  {
   "cell_type": "code",
   "execution_count": 5,
   "id": "cognitive-corruption",
   "metadata": {},
   "outputs": [],
   "source": [
    "#--from tools\n",
    "from tools.tools     import checkdir,save,load,lprint\n",
    "import tools.config\n",
    "from tools.config    import load_config, conf\n",
    "from tools.inputmod  import INPUTMOD\n",
    "from tools.randomstr import id_generator\n",
    "\n",
    "#--from fitlib\n",
    "from fitlib.resman import RESMAN"
   ]
  },
  {
   "cell_type": "code",
   "execution_count": 6,
   "id": "centered-prevention",
   "metadata": {},
   "outputs": [],
   "source": [
    "#ls /work/JAM/pitonyak/analysis-19-universal/resultsUNIVERSAL/stepFINAL_global_noHtilde_c/"
   ]
  },
  {
   "cell_type": "code",
   "execution_count": 7,
   "id": "residential-swimming",
   "metadata": {},
   "outputs": [],
   "source": [
    "#less /work/JAM/pitonyak/analysis-19-universal/resultsUNIVERSAL/stepFINAL_global_noHtilde_c/input.py"
   ]
  },
  {
   "cell_type": "code",
   "execution_count": 8,
   "id": "digital-corps",
   "metadata": {},
   "outputs": [],
   "source": [
    "path='/work/JAM/pitonyak/analysis-19-universal/resultsUNIVERSAL/stepFINAL_global_noHtilde_c/'\n",
    "load_config('%s/input.py'%path)"
   ]
  },
  {
   "cell_type": "code",
   "execution_count": 9,
   "id": "irish-breakfast",
   "metadata": {},
   "outputs": [
    {
     "data": {
      "text/plain": [
       "dict_keys(['sidis'])"
      ]
     },
     "execution_count": 9,
     "metadata": {},
     "output_type": "execute_result"
    }
   ],
   "source": [
    "conf['bootstrap']=False\n",
    "del conf['datasets']['AN']\n",
    "del conf['datasets']['dy']\n",
    "del conf['datasets']['wz']\n",
    "del conf['datasets']['sia']\n",
    "conf['datasets'].keys()"
   ]
  },
  {
   "cell_type": "code",
   "execution_count": 10,
   "id": "humanitarian-scenario",
   "metadata": {},
   "outputs": [],
   "source": [
    "#less /w/jam-sciwork18/pitonyak/analysis-19-universal/resultsUNIVERSAL/EIC_Collins_ALL_DATA_pro_neu_updated/input.py"
   ]
  },
  {
   "cell_type": "code",
   "execution_count": 11,
   "id": "initial-chess",
   "metadata": {},
   "outputs": [],
   "source": [
    "#less /w/jam-sciwork18/pitonyak/analysis-19-universal/resultsUNIVERSAL/EIC_Collins_SoLID_enhanced_pro_neu/input.py"
   ]
  },
  {
   "cell_type": "code",
   "execution_count": 12,
   "id": "sporting-composer",
   "metadata": {},
   "outputs": [],
   "source": [
    "conf[\"datasets\"][\"sidis\"][\"xlsx\"][3120]=\"sidis/expdata/3120.xlsx\"  #   EIC 18x275 (PID & smearing sys)  proton  pi+  x,z,pT\n",
    "conf[\"datasets\"][\"sidis\"][\"xlsx\"][3130]=\"sidis/expdata/3130.xlsx\"  #   EIC 18x275 (PID & smearing sys)  proton  pi-  x,z,pT \n",
    "conf[\"datasets\"][\"sidis\"][\"xlsx\"][3140]=\"sidis/expdata/3140.xlsx\"  #   EIC 10x100 (PID & smearing sys)  proton  pi+  x,z,pT\n",
    "conf[\"datasets\"][\"sidis\"][\"xlsx\"][3150]=\"sidis/expdata/3150.xlsx\"  #   EIC 10x100 (PID & smearing sys)  proton  pi-  x,z,pT \n",
    "conf[\"datasets\"][\"sidis\"][\"xlsx\"][3160]=\"sidis/expdata/3160.xlsx\"  #   EIC 5x100 (PID & smearing sys)  proton  pi+  x,z,pT\n",
    "conf[\"datasets\"][\"sidis\"][\"xlsx\"][3170]=\"sidis/expdata/3170.xlsx\"  #   EIC 5x100 (PID & smearing sys)  proton  pi-  x,z,pT \n",
    "conf[\"datasets\"][\"sidis\"][\"xlsx\"][3180]=\"sidis/expdata/3180.xlsx\"  #   EIC 5x41 (PID & smearing sys)  proton  pi+  x,z,pT\n",
    "conf[\"datasets\"][\"sidis\"][\"xlsx\"][3190]=\"sidis/expdata/3190.xlsx\"  #   EIC 5x41 (PID & smearing sys)  proton  pi-  x,z,pT \n",
    "conf[\"datasets\"][\"sidis\"][\"xlsx\"][3220]=\"sidis/expdata/3220.xlsx\"  #   EIC 18x100 (PID & smearing sys)  neutron  pi+  x,z,pT\n",
    "conf[\"datasets\"][\"sidis\"][\"xlsx\"][3230]=\"sidis/expdata/3230.xlsx\"  #   EIC 18x100 (PID & smearing sys)  neutron  pi-  x,z,pT \n",
    "conf[\"datasets\"][\"sidis\"][\"xlsx\"][3240]=\"sidis/expdata/3240.xlsx\"  #   EIC 10x100 (PID & smearing sys)  neutron  pi+  x,z,pT\n",
    "conf[\"datasets\"][\"sidis\"][\"xlsx\"][3250]=\"sidis/expdata/3250.xlsx\"  #   EIC 10x100 (PID & smearing sys)  neutron  pi-  x,z,pT \n",
    "conf[\"datasets\"][\"sidis\"][\"xlsx\"][3260]=\"sidis/expdata/3260.xlsx\"  #   EIC 5x41 (PID & smearing sys)  neutron  pi+  x,z,pT\n",
    "conf[\"datasets\"][\"sidis\"][\"xlsx\"][3270]=\"sidis/expdata/3270.xlsx\"  #   EIC 5x41 (PID & smearing sys)  neutron  pi-  x,z,pT "
   ]
  },
  {
   "cell_type": "code",
   "execution_count": 13,
   "id": "reserved-hampshire",
   "metadata": {},
   "outputs": [],
   "source": [
    "conf[\"datasets\"][\"sidis\"][\"xlsx\"][3300]=\"sidis/expdata/3300.xlsx\"  #   SoLID base      proton  pi+  x,z,pT\n",
    "conf[\"datasets\"][\"sidis\"][\"xlsx\"][3310]=\"sidis/expdata/3310.xlsx\"  #   SoLID base      proton  pi-  x,z,pT\n",
    "conf[\"datasets\"][\"sidis\"][\"xlsx\"][3320]=\"sidis/expdata/3320.xlsx\"  #   SoLID enhanced  proton  pi+  x,z,pT\n",
    "conf[\"datasets\"][\"sidis\"][\"xlsx\"][3330]=\"sidis/expdata/3330.xlsx\"  #   SoLID enhanced  proton  pi-  x,z,pT\n",
    "conf[\"datasets\"][\"sidis\"][\"xlsx\"][3400]=\"sidis/expdata/3400.xlsx\"  #   SoLID base      neutron  pi+  x,z,pT\n",
    "conf[\"datasets\"][\"sidis\"][\"xlsx\"][3410]=\"sidis/expdata/3410.xlsx\"  #   SoLID base      neutron  pi-  x,z,pT\n",
    "conf[\"datasets\"][\"sidis\"][\"xlsx\"][3420]=\"sidis/expdata/3420.xlsx\"  #   SoLID enhanced  neutron  pi+  x,z,pT\n",
    "conf[\"datasets\"][\"sidis\"][\"xlsx\"][3430]=\"sidis/expdata/3430.xlsx\"  #   SoLID enhanced  neutron  pi-  x,z,pT"
   ]
  },
  {
   "cell_type": "code",
   "execution_count": 14,
   "id": "infinite-ferry",
   "metadata": {},
   "outputs": [],
   "source": [
    "#conf['datasets']"
   ]
  },
  {
   "cell_type": "code",
   "execution_count": 15,
   "id": "continental-second",
   "metadata": {},
   "outputs": [
    {
     "name": "stdout",
     "output_type": "stream",
     "text": [
      "loading sidis data sets 3430"
     ]
    }
   ],
   "source": [
    "resman=RESMAN(parallel=False)"
   ]
  },
  {
   "cell_type": "code",
   "execution_count": 16,
   "id": "political-jenny",
   "metadata": {},
   "outputs": [
    {
     "data": {
      "text/plain": [
       "Index(['Unnamed: 0', 'Unnamed: 0.1', 'index', 'Q2', 'x', 'z', 'pT', 'obs',\n",
       "       'sim_value', 'sim_stat', 'sim_sys', 'target', 'hadron', 'col', 'value',\n",
       "       'stat_u', 'sys_u', 'W2', 'yh', 'yp', 'dy', 'thy', 'N', 'residuals',\n",
       "       'r-residuals', 'Shift', 'alpha'],\n",
       "      dtype='object')"
      ]
     },
     "execution_count": 16,
     "metadata": {},
     "output_type": "execute_result"
    }
   ],
   "source": [
    "tab=pd.DataFrame(conf['sidis tabs'][3120])\n",
    "tab.columns"
   ]
  },
  {
   "cell_type": "code",
   "execution_count": 17,
   "id": "inclusive-measure",
   "metadata": {},
   "outputs": [
    {
     "data": {
      "text/plain": [
       "Index(['Unnamed: 0', 'index', 'Q2', 'x', 'y', 'z', 'pT', 'obs', 'target',\n",
       "       'hadron', 'value', 'sim_stat_abs', 'sim_sys', 'sim_sys_abs', 'col',\n",
       "       'stat_u', 'sys_u', 'W2', 'yh', 'yp', 'dy', 'thy', 'N', 'residuals',\n",
       "       'r-residuals', 'Shift', 'alpha'],\n",
       "      dtype='object')"
      ]
     },
     "execution_count": 17,
     "metadata": {},
     "output_type": "execute_result"
    }
   ],
   "source": [
    "tab=pd.DataFrame(conf['sidis tabs'][3320])\n",
    "tab.columns"
   ]
  },
  {
   "cell_type": "code",
   "execution_count": 25,
   "id": "asian-miniature",
   "metadata": {},
   "outputs": [
    {
     "data": {
      "image/png": "[encoded data removed]",
      "text/plain": [
       "<Figure size 864x360 with 2 Axes>"
      ]
     },
     "metadata": {
      "needs_background": "light"
     },
     "output_type": "display_data"
    }
   ],
   "source": [
    "nrows,ncols=1,2\n",
    "fig = py.figure(figsize=(ncols*6,nrows*5))\n",
    "\n",
    "\n",
    "\n",
    "ax=py.subplot(nrows,ncols,1);ax1=ax\n",
    "for idx in [3120,3130,3140,3150,3160,3170,3180,3190]:\n",
    "    tab=pd.DataFrame(conf['sidis tabs'][idx])\n",
    "    ax.plot(tab['x'],np.sqrt(tab['sys_u']**2+tab['sim_stat']**2),'b.')\n",
    "for idx in [3320,3330]:\n",
    "    tab=pd.DataFrame(conf['sidis tabs'][idx])   \n",
    "    ax.plot(tab['x'],np.sqrt(tab['sys_u']**2+tab['sim_stat_abs']**2),'r.')    \n",
    "\n",
    "ax=py.subplot(nrows,ncols,2);ax2=ax\n",
    "for idx in [3220,3230,3240,3250,3260,3270]:\n",
    "    tab=pd.DataFrame(conf['sidis tabs'][idx])\n",
    "    ax.plot(tab['x'],np.sqrt(tab['sys_u']**2+tab['sim_stat']**2),'b.')\n",
    "for idx in [3420,3430]:\n",
    "    tab=pd.DataFrame(conf['sidis tabs'][idx])   \n",
    "    ax.plot(tab['x'],np.sqrt(tab['sys_u']**2+tab['sim_stat_abs']**2),'r.')    \n",
    "\n",
    "\n",
    "\n",
    "for ax in [ax1,ax2]:\n",
    "    ax.semilogy()\n",
    "    ax.tick_params(axis='both', which='both', labelsize=21,direction='in')\n",
    "    ax.set_xlabel(r'$x$',size=30)\n",
    "    ax.semilogx()\n",
    "    ax.set_ylim(1e-5,1e6)\n",
    "\n",
    "# ax1.set_ylabel(r'$sys$',size=30)\n",
    "# ax3.set_ylabel(r'$stat$',size=30)\n",
    "ax1.set_ylabel(r'$\\sqrt{\\rm stat^2+syst^2}$',size=30)\n",
    "ax1.set_title(r'$\\rm proton$',size=30)\n",
    "ax2.set_title(r'$\\rm neutron$',size=30)\n",
    "\n",
    "\n",
    "# ax1.set_title('original',size=30)\n",
    "# ax2.set_title('rescaled',size=30)\n",
    "\n",
    "py.tight_layout()"
   ]
  },
  {
   "cell_type": "code",
   "execution_count": null,
   "id": "numerical-crawford",
   "metadata": {},
   "outputs": [],
   "source": []
  },
  {
   "cell_type": "code",
   "execution_count": null,
   "id": "owned-mills",
   "metadata": {},
   "outputs": [],
   "source": []
  },
  {
   "cell_type": "code",
   "execution_count": null,
   "id": "liable-africa",
   "metadata": {},
   "outputs": [],
   "source": []
  },
  {
   "cell_type": "code",
   "execution_count": null,
   "id": "altered-ribbon",
   "metadata": {},
   "outputs": [],
   "source": []
  },
  {
   "cell_type": "code",
   "execution_count": null,
   "id": "opened-patrick",
   "metadata": {},
   "outputs": [],
   "source": []
  }
 ],
 "metadata": {
  "kernelspec": {
   "display_name": "Python 3",
   "language": "python",
   "name": "python3"
  },
  "language_info": {
   "codemirror_mode": {
    "name": "ipython",
    "version": 3
   },
   "file_extension": ".py",
   "mimetype": "text/x-python",
   "name": "python",
   "nbconvert_exporter": "python",
   "pygments_lexer": "ipython3",
   "version": "3.8.6"
  }
 },
 "nbformat": 4,
 "nbformat_minor": 5
}
